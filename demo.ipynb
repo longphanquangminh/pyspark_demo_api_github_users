{
 "cells": [
  {
   "cell_type": "code",
   "execution_count": null,
   "id": "da394f47",
   "metadata": {},
   "outputs": [],
   "source": [
    "import findspark\n",
    "findspark.init()\n",
    "\n",
    "import pyspark\n",
    "from pyspark.sql import SparkSession, SQLContext\n",
    "\n",
    "sc = SparkSession.builder.\\\n",
    "    appName(\"pyspark_demo\").master(\"spark://192.168.169.100:7077\").\\\n",
    "    config(\"spark.driver.memory\",\"1024m\").getOrCreate()\n",
    "\n",
    "import json,urllib.request\n",
    "data = urllib.request.urlopen(\"https://api.github.com/users?since=100\").read()\n",
    "output = json.loads(data)\n",
    "sqlContext = SQLContext(sc)\n",
    "sdf = sqlContext.createDataFrame(output)\n",
    "sdf.select(\"id\",\"login\",\"type\",\"node_id\").show(10,False)"
   ]
  },
  {
   "cell_type": "code",
   "execution_count": null,
   "id": "ae4b7e29",
   "metadata": {},
   "outputs": [],
   "source": []
  },
  {
   "cell_type": "code",
   "execution_count": null,
   "id": "8378e85c",
   "metadata": {},
   "outputs": [],
   "source": []
  }
 ],
 "metadata": {
  "kernelspec": {
   "display_name": "Python 3 (ipykernel)",
   "language": "python",
   "name": "python3"
  },
  "language_info": {
   "codemirror_mode": {
    "name": "ipython",
    "version": 3
   },
   "file_extension": ".py",
   "mimetype": "text/x-python",
   "name": "python",
   "nbconvert_exporter": "python",
   "pygments_lexer": "ipython3",
   "version": "3.9.0"
  }
 },
 "nbformat": 4,
 "nbformat_minor": 5
}
